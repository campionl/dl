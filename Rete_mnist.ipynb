{
  "nbformat": 4,
  "nbformat_minor": 0,
  "metadata": {
    "colab": {
      "provenance": []
    },
    "kernelspec": {
      "name": "python3",
      "display_name": "Python 3"
    },
    "language_info": {
      "name": "python"
    }
  },
  "cells": [
    {
      "cell_type": "code",
      "execution_count": 5,
      "metadata": {
        "id": "Gcj2UTsg8V_Z"
      },
      "outputs": [],
      "source": [
        "import numpy as np\n",
        "import matplotlib.pyplot as plt\n",
        "from tensorflow.keras.datasets import mnist\n",
        "from tensorflow.keras.models import Sequential\n",
        "from tensorflow.keras.layers import Dense, Flatten\n",
        "from tensorflow.keras.utils import to_categorical\n",
        "from sklearn.model_selection import train_test_split"
      ]
    },
    {
      "cell_type": "markdown",
      "source": [
        "^\n",
        "\n",
        "Importiamo tutte le librerie che ci serviranno per lo sviluppo della rete neurale"
      ],
      "metadata": {
        "id": "Eu_zC-UczTzw"
      }
    },
    {
      "cell_type": "code",
      "source": [
        "(X_train, y_train), (X_test, y_test) = mnist.load_data()\n",
        "\n",
        "X_train = X_train / 255.0\n",
        "X_test = X_test / 255.0\n",
        "\n",
        "y_train = to_categorical(y_train, 10)\n",
        "y_test = to_categorical(y_test, 10)"
      ],
      "metadata": {
        "colab": {
          "base_uri": "https://localhost:8080/"
        },
        "id": "hqjViyyevlPK",
        "outputId": "8ad3f691-23fa-4188-a323-aae8ed522933"
      },
      "execution_count": 3,
      "outputs": [
        {
          "output_type": "stream",
          "name": "stdout",
          "text": [
            "Downloading data from https://storage.googleapis.com/tensorflow/tf-keras-datasets/mnist.npz\n",
            "\u001b[1m11490434/11490434\u001b[0m \u001b[32m━━━━━━━━━━━━━━━━━━━━\u001b[0m\u001b[37m\u001b[0m \u001b[1m0s\u001b[0m 0us/step\n"
          ]
        }
      ]
    },
    {
      "cell_type": "markdown",
      "source": [
        "Dividiamo in test e train il dataset di mnist\n",
        "\n",
        "Gli input sono array che definiscono l'intensità del colore con valori da 0 a 255, per questo motivo dividiamo i valori per 255.0 così da scalarli a valori tra 0 a 1 per calcoli più istantanei.\n",
        "\n",
        "Poi gli input li trasformiamo in binario sempre per semplificare i calcoli alla macchina"
      ],
      "metadata": {
        "id": "0_im3ZE_zr8D"
      }
    },
    {
      "cell_type": "code",
      "source": [
        "model = Sequential([\n",
        "    Flatten(input_shape=(28, 28)),  # Appiattisce l'immagine 28x28 in un vettore di 784 valori\n",
        "    Dense(128, activation='relu'),   # Layer nascosto con 128 neuroni\n",
        "    Dense(10, activation='softmax')  # Layer di output con 10 neuroni (uno per cifra)\n",
        "])\n",
        "\n",
        "model.compile(optimizer='adam',\n",
        "              loss='categorical_crossentropy',\n",
        "              metrics=['accuracy'])\n",
        "\n",
        "history = model.fit(X_train, y_train,\n",
        "                    epochs=10,\n",
        "                    batch_size=32,\n",
        "                    validation_split=0.2)"
      ],
      "metadata": {
        "colab": {
          "base_uri": "https://localhost:8080/"
        },
        "collapsed": true,
        "id": "vkZwRKEByj_o",
        "outputId": "c8c968d8-a49e-466f-ad92-c800280aa46a"
      },
      "execution_count": 6,
      "outputs": [
        {
          "output_type": "stream",
          "name": "stderr",
          "text": [
            "/usr/local/lib/python3.11/dist-packages/keras/src/layers/reshaping/flatten.py:37: UserWarning: Do not pass an `input_shape`/`input_dim` argument to a layer. When using Sequential models, prefer using an `Input(shape)` object as the first layer in the model instead.\n",
            "  super().__init__(**kwargs)\n"
          ]
        },
        {
          "output_type": "stream",
          "name": "stdout",
          "text": [
            "Epoch 1/10\n",
            "\u001b[1m1500/1500\u001b[0m \u001b[32m━━━━━━━━━━━━━━━━━━━━\u001b[0m\u001b[37m\u001b[0m \u001b[1m8s\u001b[0m 5ms/step - accuracy: 0.8713 - loss: 0.4648 - val_accuracy: 0.9530 - val_loss: 0.1659\n",
            "Epoch 2/10\n",
            "\u001b[1m1500/1500\u001b[0m \u001b[32m━━━━━━━━━━━━━━━━━━━━\u001b[0m\u001b[37m\u001b[0m \u001b[1m11s\u001b[0m 5ms/step - accuracy: 0.9607 - loss: 0.1375 - val_accuracy: 0.9668 - val_loss: 0.1203\n",
            "Epoch 3/10\n",
            "\u001b[1m1500/1500\u001b[0m \u001b[32m━━━━━━━━━━━━━━━━━━━━\u001b[0m\u001b[37m\u001b[0m \u001b[1m10s\u001b[0m 5ms/step - accuracy: 0.9748 - loss: 0.0898 - val_accuracy: 0.9709 - val_loss: 0.0971\n",
            "Epoch 4/10\n",
            "\u001b[1m1500/1500\u001b[0m \u001b[32m━━━━━━━━━━━━━━━━━━━━\u001b[0m\u001b[37m\u001b[0m \u001b[1m7s\u001b[0m 5ms/step - accuracy: 0.9812 - loss: 0.0642 - val_accuracy: 0.9709 - val_loss: 0.1021\n",
            "Epoch 5/10\n",
            "\u001b[1m1500/1500\u001b[0m \u001b[32m━━━━━━━━━━━━━━━━━━━━\u001b[0m\u001b[37m\u001b[0m \u001b[1m6s\u001b[0m 4ms/step - accuracy: 0.9856 - loss: 0.0478 - val_accuracy: 0.9726 - val_loss: 0.0993\n",
            "Epoch 6/10\n",
            "\u001b[1m1500/1500\u001b[0m \u001b[32m━━━━━━━━━━━━━━━━━━━━\u001b[0m\u001b[37m\u001b[0m \u001b[1m8s\u001b[0m 5ms/step - accuracy: 0.9893 - loss: 0.0374 - val_accuracy: 0.9747 - val_loss: 0.0906\n",
            "Epoch 7/10\n",
            "\u001b[1m1500/1500\u001b[0m \u001b[32m━━━━━━━━━━━━━━━━━━━━\u001b[0m\u001b[37m\u001b[0m \u001b[1m6s\u001b[0m 4ms/step - accuracy: 0.9908 - loss: 0.0300 - val_accuracy: 0.9742 - val_loss: 0.0940\n",
            "Epoch 8/10\n",
            "\u001b[1m1500/1500\u001b[0m \u001b[32m━━━━━━━━━━━━━━━━━━━━\u001b[0m\u001b[37m\u001b[0m \u001b[1m12s\u001b[0m 5ms/step - accuracy: 0.9937 - loss: 0.0223 - val_accuracy: 0.9744 - val_loss: 0.0919\n",
            "Epoch 9/10\n",
            "\u001b[1m1500/1500\u001b[0m \u001b[32m━━━━━━━━━━━━━━━━━━━━\u001b[0m\u001b[37m\u001b[0m \u001b[1m8s\u001b[0m 5ms/step - accuracy: 0.9949 - loss: 0.0188 - val_accuracy: 0.9764 - val_loss: 0.0874\n",
            "Epoch 10/10\n",
            "\u001b[1m1500/1500\u001b[0m \u001b[32m━━━━━━━━━━━━━━━━━━━━\u001b[0m\u001b[37m\u001b[0m \u001b[1m9s\u001b[0m 4ms/step - accuracy: 0.9961 - loss: 0.0136 - val_accuracy: 0.9732 - val_loss: 0.1057\n"
          ]
        }
      ]
    },
    {
      "cell_type": "markdown",
      "source": [
        "Definiamo la struttura del model,\n",
        "iniziamo usando flatten, esso ci permette di ridurre l'immagine a un vettore di 784 valori binari.\n",
        "\n",
        "Definiamo i layer, uno per far comprendere al modello la struttura delle immagini con 128 neuroni e un activation type relu, ed il layer finale da 10 neuroni, uno per cifra, con activation type softmax, ideale per la classificazione con probabilità.\n",
        "\n",
        "Diamo le direttive al modello specificando optimizer, loss sarà categorical_crossenthropy siccome abbiamo usato softmax come attivazione in output.\n",
        "\n",
        "Infine definiamo l'addestramento.\n",
        "Il batch size (o \"dimensione del batch\") è un iperparametro che definisce quanti esempi del dataset vengono processati insieme prima che la rete neurale aggiorni i suoi pesi."
      ],
      "metadata": {
        "id": "Tns79H241BB8"
      }
    },
    {
      "cell_type": "code",
      "source": [
        "test_loss, test_acc = model.evaluate(X_test, y_test)\n",
        "print(f\"\\nAccuracy sul test set: {test_acc*100:.2f}%\")"
      ],
      "metadata": {
        "colab": {
          "base_uri": "https://localhost:8080/"
        },
        "id": "c1-1Ny1KyoNQ",
        "outputId": "3c153bb0-1c01-4f82-99ca-acb669a1d15d"
      },
      "execution_count": 7,
      "outputs": [
        {
          "output_type": "stream",
          "name": "stdout",
          "text": [
            "\u001b[1m313/313\u001b[0m \u001b[32m━━━━━━━━━━━━━━━━━━━━\u001b[0m\u001b[37m\u001b[0m \u001b[1m1s\u001b[0m 4ms/step - accuracy: 0.9702 - loss: 0.1047\n",
            "\n",
            "Accuracy sul test set: 97.48%\n"
          ]
        }
      ]
    },
    {
      "cell_type": "markdown",
      "source": [
        "Qui definiamo l'accuratezza del processo per vedere se il modello ha imparato correttamente."
      ],
      "metadata": {
        "id": "maxJuq2b2rnT"
      }
    },
    {
      "cell_type": "code",
      "source": [
        "sample_idx = np.random.randint(0, len(X_test))\n",
        "sample_img = X_test[sample_idx]\n",
        "prediction = np.argmax(model.predict(sample_img[np.newaxis, ...]))\n",
        "\n",
        "plt.imshow(sample_img, cmap='gray')\n",
        "plt.title(f\"Predizione: {prediction} | Etichetta vera: {np.argmax(y_test[sample_idx])}\")\n",
        "plt.show()"
      ],
      "metadata": {
        "colab": {
          "base_uri": "https://localhost:8080/",
          "height": 470
        },
        "id": "AXG_TYClyota",
        "outputId": "e6795670-4972-4830-dac5-8390880c91a4"
      },
      "execution_count": 22,
      "outputs": [
        {
          "output_type": "stream",
          "name": "stdout",
          "text": [
            "\u001b[1m1/1\u001b[0m \u001b[32m━━━━━━━━━━━━━━━━━━━━\u001b[0m\u001b[37m\u001b[0m \u001b[1m0s\u001b[0m 44ms/step\n"
          ]
        },
        {
          "output_type": "display_data",
          "data": {
            "text/plain": [
              "<Figure size 640x480 with 1 Axes>"
            ],
            "image/png": "[encoded data removed]"
          },
          "metadata": {}
        }
      ]
    },
    {
      "cell_type": "markdown",
      "source": [
        "Finiamo con un predict per vedere se il nostro modello funziona correttamente"
      ],
      "metadata": {
        "id": "00WE-Xs92vn4"
      }
    }
  ]
}