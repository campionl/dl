{
  "nbformat": 4,
  "nbformat_minor": 0,
  "metadata": {
    "colab": {
      "provenance": [],
      "gpuType": "T4"
    },
    "kernelspec": {
      "name": "python3",
      "display_name": "Python 3"
    },
    "language_info": {
      "name": "python"
    },
    "accelerator": "GPU"
  },
  "cells": [
    {
      "cell_type": "markdown",
      "source": [
        "# Rete con dataset MNIST per il riconoscimento delle cifre"
      ],
      "metadata": {
        "id": "ElHI8Datf22h"
      }
    },
    {
      "cell_type": "markdown",
      "source": [
        "Import delle librerie necessarie"
      ],
      "metadata": {
        "id": "CWA8YakNgAc6"
      }
    },
    {
      "cell_type": "code",
      "source": [
        "import numpy as np\n",
        "import matplotlib.pyplot as plt\n",
        "from tensorflow import keras\n",
        "from tensorflow.keras import layers\n",
        "from IPython.display import HTML, display\n",
        "import base64\n",
        "import io\n",
        "from PIL import Image\n",
        "from google.colab import output"
      ],
      "metadata": {
        "id": "in6cFhWegIov"
      },
      "execution_count": null,
      "outputs": []
    },
    {
      "cell_type": "markdown",
      "source": [
        "Caricamento del dataset e normalizzazione delle immagini"
      ],
      "metadata": {
        "id": "RsVRmJyBgOEy"
      }
    },
    {
      "cell_type": "code",
      "source": [
        "(x_train, y_train), (x_test, y_test) = keras.datasets.mnist.load_data()\n",
        "\n",
        "x_train = x_train.astype(\"float32\") / 255\n",
        "x_test = x_test.astype(\"float32\") / 255\n",
        "\n",
        "# Adattamento delle dimensioni (28, 28, 1)\n",
        "x_train = np.expand_dims(x_train, -1)\n",
        "x_test = np.expand_dims(x_test, -1)\n",
        "\n",
        "num_classes = 10\n",
        "y_train = keras.utils.to_categorical(y_train, num_classes)\n",
        "y_test = keras.utils.to_categorical(y_test, num_classes)"
      ],
      "metadata": {
        "id": "MDDVlnYqgYe3",
        "colab": {
          "base_uri": "https://localhost:8080/"
        },
        "outputId": "9574edd4-2a53-490b-bab3-ede6dd21e283"
      },
      "execution_count": null,
      "outputs": [
        {
          "output_type": "stream",
          "name": "stdout",
          "text": [
            "Downloading data from https://storage.googleapis.com/tensorflow/tf-keras-datasets/mnist.npz\n",
            "\u001b[1m11490434/11490434\u001b[0m \u001b[32m━━━━━━━━━━━━━━━━━━━━\u001b[0m\u001b[37m\u001b[0m \u001b[1m2s\u001b[0m 0us/step\n"
          ]
        }
      ]
    },
    {
      "cell_type": "markdown",
      "source": [
        "Definizione e compilazione del modello di rete neurale"
      ],
      "metadata": {
        "id": "EZbBbsOzglAS"
      }
    },
    {
      "cell_type": "code",
      "source": [
        "model = keras.Sequential(\n",
        "    [\n",
        "        keras.Input(shape=(28, 28, 1)),\n",
        "        layers.Conv2D(32, kernel_size=(3, 3), activation=\"relu\"),\n",
        "        layers.MaxPooling2D(pool_size=(2, 2)),\n",
        "        layers.Conv2D(64, kernel_size=(3, 3), activation=\"relu\"),\n",
        "        layers.MaxPooling2D(pool_size=(2, 2)),\n",
        "        layers.Flatten(),\n",
        "        layers.Dropout(0.5),\n",
        "        layers.Dense(num_classes, activation=\"softmax\"),\n",
        "    ]\n",
        ")\n",
        "\n",
        "model.compile(loss=\"categorical_crossentropy\", optimizer=\"adam\", metrics=[\"accuracy\"])"
      ],
      "metadata": {
        "id": "4j5_iSLGgpB2"
      },
      "execution_count": null,
      "outputs": []
    },
    {
      "cell_type": "markdown",
      "source": [
        "Addestramento e valutazione della precisione del modello"
      ],
      "metadata": {
        "id": "kj9kdfnEg7JQ"
      }
    },
    {
      "cell_type": "code",
      "source": [
        "batch_size = 128\n",
        "epochs = 15\n",
        "history = model.fit(x_train, y_train, batch_size=batch_size, epochs=epochs, validation_split=0.1)\n",
        "\n",
        "score = model.evaluate(x_test, y_test, verbose=0)\n",
        "print(\"Test loss:\", score[0])\n",
        "print(\"Test accuracy:\", score[1])"
      ],
      "metadata": {
        "id": "YtbA99kCOiur",
        "colab": {
          "base_uri": "https://localhost:8080/"
        },
        "outputId": "f310e254-4efe-4766-b2b9-2d825dd1a200"
      },
      "execution_count": null,
      "outputs": [
        {
          "output_type": "stream",
          "name": "stdout",
          "text": [
            "Epoch 1/15\n",
            "\u001b[1m422/422\u001b[0m \u001b[32m━━━━━━━━━━━━━━━━━━━━\u001b[0m\u001b[37m\u001b[0m \u001b[1m9s\u001b[0m 11ms/step - accuracy: 0.7692 - loss: 0.7501 - val_accuracy: 0.9793 - val_loss: 0.0785\n",
            "Epoch 2/15\n",
            "\u001b[1m422/422\u001b[0m \u001b[32m━━━━━━━━━━━━━━━━━━━━\u001b[0m\u001b[37m\u001b[0m \u001b[1m4s\u001b[0m 4ms/step - accuracy: 0.9630 - loss: 0.1220 - val_accuracy: 0.9852 - val_loss: 0.0579\n",
            "Epoch 3/15\n",
            "\u001b[1m422/422\u001b[0m \u001b[32m━━━━━━━━━━━━━━━━━━━━\u001b[0m\u001b[37m\u001b[0m \u001b[1m2s\u001b[0m 4ms/step - accuracy: 0.9750 - loss: 0.0834 - val_accuracy: 0.9888 - val_loss: 0.0449\n",
            "Epoch 4/15\n",
            "\u001b[1m422/422\u001b[0m \u001b[32m━━━━━━━━━━━━━━━━━━━━\u001b[0m\u001b[37m\u001b[0m \u001b[1m3s\u001b[0m 4ms/step - accuracy: 0.9783 - loss: 0.0722 - val_accuracy: 0.9902 - val_loss: 0.0400\n",
            "Epoch 5/15\n",
            "\u001b[1m422/422\u001b[0m \u001b[32m━━━━━━━━━━━━━━━━━━━━\u001b[0m\u001b[37m\u001b[0m \u001b[1m2s\u001b[0m 5ms/step - accuracy: 0.9801 - loss: 0.0600 - val_accuracy: 0.9887 - val_loss: 0.0397\n",
            "Epoch 6/15\n",
            "\u001b[1m422/422\u001b[0m \u001b[32m━━━━━━━━━━━━━━━━━━━━\u001b[0m\u001b[37m\u001b[0m \u001b[1m2s\u001b[0m 4ms/step - accuracy: 0.9827 - loss: 0.0573 - val_accuracy: 0.9900 - val_loss: 0.0353\n",
            "Epoch 7/15\n",
            "\u001b[1m422/422\u001b[0m \u001b[32m━━━━━━━━━━━━━━━━━━━━\u001b[0m\u001b[37m\u001b[0m \u001b[1m2s\u001b[0m 4ms/step - accuracy: 0.9841 - loss: 0.0488 - val_accuracy: 0.9912 - val_loss: 0.0339\n",
            "Epoch 8/15\n",
            "\u001b[1m422/422\u001b[0m \u001b[32m━━━━━━━━━━━━━━━━━━━━\u001b[0m\u001b[37m\u001b[0m \u001b[1m2s\u001b[0m 4ms/step - accuracy: 0.9857 - loss: 0.0451 - val_accuracy: 0.9923 - val_loss: 0.0319\n",
            "Epoch 9/15\n",
            "\u001b[1m422/422\u001b[0m \u001b[32m━━━━━━━━━━━━━━━━━━━━\u001b[0m\u001b[37m\u001b[0m \u001b[1m3s\u001b[0m 4ms/step - accuracy: 0.9856 - loss: 0.0460 - val_accuracy: 0.9905 - val_loss: 0.0332\n",
            "Epoch 10/15\n",
            "\u001b[1m422/422\u001b[0m \u001b[32m━━━━━━━━━━━━━━━━━━━━\u001b[0m\u001b[37m\u001b[0m \u001b[1m2s\u001b[0m 4ms/step - accuracy: 0.9866 - loss: 0.0415 - val_accuracy: 0.9905 - val_loss: 0.0322\n",
            "Epoch 11/15\n",
            "\u001b[1m422/422\u001b[0m \u001b[32m━━━━━━━━━━━━━━━━━━━━\u001b[0m\u001b[37m\u001b[0m \u001b[1m3s\u001b[0m 5ms/step - accuracy: 0.9869 - loss: 0.0386 - val_accuracy: 0.9925 - val_loss: 0.0302\n",
            "Epoch 12/15\n",
            "\u001b[1m422/422\u001b[0m \u001b[32m━━━━━━━━━━━━━━━━━━━━\u001b[0m\u001b[37m\u001b[0m \u001b[1m2s\u001b[0m 4ms/step - accuracy: 0.9878 - loss: 0.0363 - val_accuracy: 0.9913 - val_loss: 0.0306\n",
            "Epoch 13/15\n",
            "\u001b[1m422/422\u001b[0m \u001b[32m━━━━━━━━━━━━━━━━━━━━\u001b[0m\u001b[37m\u001b[0m \u001b[1m2s\u001b[0m 4ms/step - accuracy: 0.9874 - loss: 0.0374 - val_accuracy: 0.9913 - val_loss: 0.0286\n",
            "Epoch 14/15\n",
            "\u001b[1m422/422\u001b[0m \u001b[32m━━━━━━━━━━━━━━━━━━━━\u001b[0m\u001b[37m\u001b[0m \u001b[1m2s\u001b[0m 4ms/step - accuracy: 0.9895 - loss: 0.0341 - val_accuracy: 0.9912 - val_loss: 0.0298\n",
            "Epoch 15/15\n",
            "\u001b[1m422/422\u001b[0m \u001b[32m━━━━━━━━━━━━━━━━━━━━\u001b[0m\u001b[37m\u001b[0m \u001b[1m2s\u001b[0m 4ms/step - accuracy: 0.9901 - loss: 0.0292 - val_accuracy: 0.9925 - val_loss: 0.0275\n",
            "Test loss: 0.027222689241170883\n",
            "Test accuracy: 0.9902999997138977\n"
          ]
        }
      ]
    },
    {
      "cell_type": "markdown",
      "source": [
        "Visualizzazione grafico di addestramento e test"
      ],
      "metadata": {
        "id": "vk8_3zsxhrcY"
      }
    },
    {
      "cell_type": "code",
      "source": [
        "plt.plot(history.history['loss'], label='Training Loss')\n",
        "plt.plot(history.history['val_loss'], label='Validation Loss', color='red')\n",
        "plt.plot(history.history['accuracy'], label='Training Accuracy', color='blue')\n",
        "plt.plot(history.history['val_accuracy'], label='Validation Accuracy', color='green')\n",
        "plt.xlabel('Epoch')\n",
        "plt.ylabel('Accuracy')\n",
        "plt.legend()\n",
        "plt.show()"
      ],
      "metadata": {
        "id": "aeiXbk7CRgTX",
        "colab": {
          "base_uri": "https://localhost:8080/",
          "height": 449
        },
        "outputId": "aca8114d-b821-4ee4-c27f-c90fd3d033f1"
      },
      "execution_count": null,
      "outputs": [
        {
          "output_type": "display_data",
          "data": {
            "text/plain": [
              "<Figure size 640x480 with 1 Axes>"
            ],
            "image/png": "[encoded data removed]"
          },
          "metadata": {}
        }
      ]
    },
    {
      "cell_type": "markdown",
      "source": [
        "Esempio di predizione"
      ],
      "metadata": {
        "id": "LOV-ZUeOhE48"
      }
    },
    {
      "cell_type": "code",
      "source": [
        "def plot_examples(images, predictions, true_labels, num_examples=5):\n",
        "    \"\"\"\n",
        "    Plots sample images with their predicted and true labels.\n",
        "\n",
        "    Args:\n",
        "        images: Array delle immagini di test.\n",
        "        predictions: Array delle labels predette.\n",
        "        true_labels: Array delle labels vere per le immagini.\n",
        "        num_examples: numero di esempi da plottare\n",
        "    \"\"\"\n",
        "    plt.figure(figsize=(15, 3)) # Regola le dimensioni della figura per una singola riga\n",
        "    for i in range(min(num_examples, 5)): # Assicura di non superare 5 esempi per questa configurazione\n",
        "        plt.subplot(1, 5, i + 1) # Modificato il grid per una singola riga con 5 colonne\n",
        "        plt.imshow(images[i].reshape(28, 28), cmap='gray')\n",
        "        predicted_label = np.argmax(predictions[i])\n",
        "        true_label = np.argmax(true_labels[i])\n",
        "        plt.title(f\"Pred: {predicted_label}, True: {true_label}\")\n",
        "        plt.axis('off')\n",
        "    plt.tight_layout()\n",
        "    plt.show()\n",
        "\n",
        "\n",
        "num_examples_to_show = 5 # Impostato a 5 per visualizzare 5 esempi\n",
        "random_indices = np.random.choice(x_test.shape[0], num_examples_to_show)\n",
        "sample_images = x_test[random_indices]\n",
        "sample_true_labels = y_test[random_indices]\n",
        "\n",
        "sample_predictions = model.predict(sample_images)\n",
        "\n",
        "plot_examples(sample_images, sample_predictions, sample_true_labels, num_examples=num_examples_to_show)"
      ],
      "metadata": {
        "id": "e0zZLyILhD3Z",
        "colab": {
          "base_uri": "https://localhost:8080/",
          "height": 328
        },
        "outputId": "d6650a15-de65-4c62-cf2e-82bc39d8d931"
      },
      "execution_count": null,
      "outputs": [
        {
          "output_type": "stream",
          "name": "stdout",
          "text": [
            "\u001b[1m1/1\u001b[0m \u001b[32m━━━━━━━━━━━━━━━━━━━━\u001b[0m\u001b[37m\u001b[0m \u001b[1m0s\u001b[0m 384ms/step\n"
          ]
        },
        {
          "output_type": "display_data",
          "data": {
            "text/plain": [
              "<Figure size 1500x300 with 5 Axes>"
            ],
            "image/png": "[encoded data removed]"
          },
          "metadata": {}
        }
      ]
    },
    {
      "cell_type": "markdown",
      "source": [
        "Canvas per disegnare e sottoporre al modello una cifra per riconoscimento"
      ],
      "metadata": {
        "id": "LrR9EmQohzjZ"
      }
    },
    {
      "cell_type": "code",
      "source": [
        "canvas_html = \"\"\"\n",
        "<div style=\"text-align:center\">\n",
        "<canvas id=\"canvas\" width=\"200\" height=\"200\" style=\"border:1px solid black; background:black;\"></canvas>\n",
        "<br/>\n",
        "<button onclick=\"predict()\">Predict</button>\n",
        "<button onclick=\"clearCanvas()\">Clear</button>\n",
        "</div>\n",
        "<script>\n",
        "var canvas = document.getElementById('canvas');\n",
        "var ctx = canvas.getContext('2d');\n",
        "var drawing = false;\n",
        "var lastX = 0;\n",
        "var lastY = 0;\n",
        "\n",
        "ctx.lineWidth = 15;\n",
        "ctx.lineJoin = 'round';\n",
        "ctx.lineCap = 'round';\n",
        "\n",
        "ctx.fillStyle = \"black\"; // Set fill style to black for clearing\n",
        "ctx.fillRect(0, 0, canvas.width, canvas.height); // Fill canvas with black initially\n",
        "ctx.strokeStyle = \"white\"; // Set stroke style to white for drawing\n",
        "\n",
        "function startDrawing(e) {\n",
        "    drawing = true;\n",
        "    [lastX, lastY] = [e.offsetX, e.offsetY];\n",
        "}\n",
        "\n",
        "function draw(e) {\n",
        "    if (!drawing) return;\n",
        "    ctx.beginPath();\n",
        "    ctx.moveTo(lastX, lastY);\n",
        "    ctx.lineTo(e.offsetX, e.offsetY);\n",
        "    ctx.stroke();\n",
        "    [lastX, lastY] = [e.offsetX, e.offsetY];\n",
        "}\n",
        "\n",
        "function stopDrawing() {\n",
        "    drawing = false;\n",
        "}\n",
        "\n",
        "canvas.addEventListener('mousedown', startDrawing);\n",
        "canvas.addEventListener('mousemove', draw);\n",
        "canvas.addEventListener('mouseup', stopDrawing);\n",
        "canvas.addEventListener('mouseout', stopDrawing);\n",
        "\n",
        "function clearCanvas() {\n",
        "    ctx.fillStyle = \"black\";\n",
        "    ctx.fillRect(0, 0, canvas.width, canvas.height);\n",
        "    ctx.fillStyle = \"white\";\n",
        "    ctx.strokeStyle = \"white\";\n",
        "}\n",
        "\n",
        "function predict() {\n",
        "    var data = canvas.toDataURL('image/png');\n",
        "    google.colab.kernel.invokeFunction('notebook.predict_digit', [data], {});\n",
        "}\n",
        "</script>\n",
        "\"\"\"\n",
        "\n",
        "display(HTML(canvas_html))\n",
        "\n",
        "def preprocess_image(img):\n",
        "    img = img.convert('L') # Converte in scala di grigi\n",
        "    img_array = np.array(img)\n",
        "\n",
        "    # Mantieni l'immagine originale (dopo la conversione in scala di grigi)\n",
        "    new_img = Image.fromarray(img_array)\n",
        "\n",
        "    # Ridimensiona l'immagine direttamente a 28x28 senza ritaglio o centratura basata sul contenuto\n",
        "    new_img = new_img.resize((28, 28))\n",
        "\n",
        "    plt.imshow(new_img, cmap='gray')\n",
        "    plt.title('Immagine ridimensionata')\n",
        "    plt.axis('off')\n",
        "    plt.show()\n",
        "\n",
        "    img_array = np.array(new_img)\n",
        "    img_array = img_array.astype('float32') / 255.0\n",
        "    img_array = np.expand_dims(img_array, -1)\n",
        "\n",
        "    return np.expand_dims(img_array, 0)\n",
        "\n",
        "def predict_digit(data):\n",
        "    data = data.split(',')[1]\n",
        "    binary = base64.b64decode(data)\n",
        "    img = Image.open(io.BytesIO(binary))\n",
        "    processed_img = preprocess_image(img)\n",
        "    prediction = model.predict(processed_img)\n",
        "    digit = np.argmax(prediction)\n",
        "    confidence = np.max(prediction)\n",
        "    display(HTML(f\"<h2>Predicted: {digit} (Confidence: {confidence:.2%})</h2>\"))\n",
        "    plt.figure(figsize=(6,3))\n",
        "    plt.bar(range(10), prediction[0])\n",
        "    plt.xticks(range(10))\n",
        "    plt.title('Prediction Probabilities')\n",
        "    plt.show()\n",
        "\n",
        "output.register_callback('notebook.predict_digit', predict_digit)\n"
      ],
      "metadata": {
        "id": "0iq431i8fr_y",
        "colab": {
          "base_uri": "https://localhost:8080/",
          "height": 1000
        },
        "outputId": "02d9d186-35f6-4c5b-95bc-0bf4ffd324a0"
      },
      "execution_count": null,
      "outputs": [
        {
          "output_type": "display_data",
          "data": {
            "text/plain": [
              "<IPython.core.display.HTML object>"
            ],
            "text/html": [
              "\n",
              "<div style=\"text-align:center\">\n",
              "<canvas id=\"canvas\" width=\"200\" height=\"200\" style=\"border:1px solid black; background:black;\"></canvas>\n",
              "<br/>\n",
              "<button onclick=\"predict()\">Predict</button>\n",
              "<button onclick=\"clearCanvas()\">Clear</button>\n",
              "</div>\n",
              "<script>\n",
              "var canvas = document.getElementById('canvas');\n",
              "var ctx = canvas.getContext('2d');\n",
              "var drawing = false;\n",
              "var lastX = 0;\n",
              "var lastY = 0;\n",
              "\n",
              "ctx.lineWidth = 15;\n",
              "ctx.lineJoin = 'round';\n",
              "ctx.lineCap = 'round';\n",
              "\n",
              "ctx.fillStyle = \"black\"; // Set fill style to black for clearing\n",
              "ctx.fillRect(0, 0, canvas.width, canvas.height); // Fill canvas with black initially\n",
              "ctx.strokeStyle = \"white\"; // Set stroke style to white for drawing\n",
              "\n",
              "function startDrawing(e) {\n",
              "    drawing = true;\n",
              "    [lastX, lastY] = [e.offsetX, e.offsetY];\n",
              "}\n",
              "\n",
              "function draw(e) {\n",
              "    if (!drawing) return;\n",
              "    ctx.beginPath();\n",
              "    ctx.moveTo(lastX, lastY);\n",
              "    ctx.lineTo(e.offsetX, e.offsetY);\n",
              "    ctx.stroke();\n",
              "    [lastX, lastY] = [e.offsetX, e.offsetY];\n",
              "}\n",
              "\n",
              "function stopDrawing() {\n",
              "    drawing = false;\n",
              "}\n",
              "\n",
              "canvas.addEventListener('mousedown', startDrawing);\n",
              "canvas.addEventListener('mousemove', draw);\n",
              "canvas.addEventListener('mouseup', stopDrawing);\n",
              "canvas.addEventListener('mouseout', stopDrawing);\n",
              "\n",
              "function clearCanvas() {\n",
              "    ctx.fillStyle = \"black\";\n",
              "    ctx.fillRect(0, 0, canvas.width, canvas.height);\n",
              "    ctx.fillStyle = \"white\";\n",
              "    ctx.strokeStyle = \"white\";\n",
              "}\n",
              "\n",
              "function predict() {\n",
              "    var data = canvas.toDataURL('image/png');\n",
              "    google.colab.kernel.invokeFunction('notebook.predict_digit', [data], {});\n",
              "}\n",
              "</script>\n"
            ]
          },
          "metadata": {}
        },
        {
          "output_type": "display_data",
          "data": {
            "text/plain": [
              "<Figure size 640x480 with 1 Axes>"
            ],
            "image/png": "[encoded data removed]"
          },
          "metadata": {}
        },
        {
          "output_type": "stream",
          "name": "stdout",
          "text": [
            "\u001b[1m1/1\u001b[0m \u001b[32m━━━━━━━━━━━━━━━━━━━━\u001b[0m\u001b[37m\u001b[0m \u001b[1m0s\u001b[0m 381ms/step\n"
          ]
        },
        {
          "output_type": "display_data",
          "data": {
            "text/plain": [
              "<IPython.core.display.HTML object>"
            ],
            "text/html": [
              "<h2>Predicted: 2 (Confidence: 94.83%)</h2>"
            ]
          },
          "metadata": {}
        },
        {
          "output_type": "display_data",
          "data": {
            "text/plain": [
              "<Figure size 600x300 with 1 Axes>"
            ],
            "image/png": "[encoded data removed]"
          },
          "metadata": {}
        }
      ]
    }
  ]
}
