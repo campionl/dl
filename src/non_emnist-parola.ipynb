{
  "cells": [
    {
      "cell_type": "markdown",
      "source": [
        "## Import librerie"
      ],
      "metadata": {
        "id": "pQyyMo5CtfmM"
      }
    },
    {
      "cell_type": "markdown",
      "source": [
        "Iniziamo la creazione della rete importando tutte le librerie che ci occorrono per creare il modello"
      ],
      "metadata": {
        "id": "8C81Q3ZLjwy8"
      }
    },
    {
      "cell_type": "code",
      "execution_count": 23,
      "metadata": {
        "id": "Gcj2UTsg8V_Z"
      },
      "outputs": [],
      "source": [
        "import numpy as np\n",
        "import matplotlib.pyplot as plt\n",
        "from tensorflow.keras.datasets import mnist\n",
        "from tensorflow.keras.models import Sequential\n",
        "from tensorflow.keras.layers import Dense, Flatten, MaxPooling2D, Conv2D, Dropout\n",
        "from tensorflow.keras.utils import to_categorical\n",
        "from sklearn.model_selection import train_test_split\n",
        "from PIL import Image, ImageDraw, ImageOps\n",
        "import tensorflow_datasets as tfds\n",
        "import tensorflow as tf\n",
        "from IPython.display import display, HTML\n",
        "from google.colab import output, files\n",
        "import base64\n",
        "import io"
      ]
    },
    {
      "cell_type": "markdown",
      "source": [
        "## Caricamento Dataset"
      ],
      "metadata": {
        "id": "vK1POjKvta95"
      }
    },
    {
      "cell_type": "markdown",
      "source": [
        "Carichiamo il dataset EMNIST e sistemiamo le immagini siccome il dataset le importa girate di 90 gradi e specchiate"
      ],
      "metadata": {
        "id": "bOBWbLqijsNT"
      }
    },
    {
      "cell_type": "code",
      "source": [
        "(ds_train, ds_test), ds_info = tfds.load(\n",
        "    'emnist/letters',\n",
        "    split=['train', 'test'],\n",
        "    as_supervised=True,\n",
        "    with_info=True\n",
        ")\n",
        "\n",
        "def preprocess(image, label):\n",
        "    image = tf.cast(image, tf.float32) / 255.0\n",
        "    image = tf.image.rot90(image, k=-1)\n",
        "    image = tf.image.flip_left_right(image)\n",
        "    label -= 1\n",
        "    image = tf.expand_dims(image, -1)\n",
        "    return image, label\n",
        "\n",
        "batch_size = 32\n",
        "ds_train = ds_train.map(preprocess).shuffle(1000).batch(batch_size).prefetch(tf.data.AUTOTUNE)\n",
        "ds_test = ds_test.map(preprocess).batch(batch_size).prefetch(tf.data.AUTOTUNE)\n",
        "\n",
        "for images, labels in ds_train.take(1):\n",
        "    for i in range(5):\n",
        "        plt.imshow(images[i].numpy().squeeze(), cmap='gray')\n",
        "        plt.title(f\"Lettera: {chr(int(labels[i]) + 65)}\")  # 0='A'\n",
        "        plt.axis(\"off\")\n",
        "        plt.show()"
      ],
      "metadata": {
        "id": "-QvZprKDS4F0"
      },
      "execution_count": null,
      "outputs": []
    },
    {
      "cell_type": "markdown",
      "source": [
        "## Creazione modello"
      ],
      "metadata": {
        "id": "W6xUJzXHqs7c"
      }
    },
    {
      "cell_type": "markdown",
      "source": [
        "Ora definiamo la struttura del modello:\n",
        "Creiamo un conv2d per estrarre i dati importanti(controni, bordi, etc...), col max pooling estraiamo il dato più significativo in una matrice 2x2 ed infine col dropout evitiamo l'overfitting.\n",
        "\n",
        "Lo ripetiamo un'altra volta.\n",
        "\n",
        "Usiamo flatten per appiattire l'immagine prima del dense in modo che il modello la possa leggere.\n",
        "Elaboriamo le info col dense, ultimo dropout ed infine in output mettiamo soft max siccome abbiamo un output classificabile con 26 neuroni siccome le lettere sono 26.\n",
        "\n",
        "Poi assegnamo al modello le direttive come optimizer, loss (che sarà sparse_categorical_crossentropy, funzione di perdita utilizzata in problemi di classificazione multi-classe, dove le etichette target sono rappresentate come interi, ovvero gli indici delle classi, invece di vettori one-hot).\n",
        "\n",
        "Infine definiamo l'allenamento per l'IA e salviamo i pesi calcolati in un file."
      ],
      "metadata": {
        "id": "JL6yBcwUkxTn"
      }
    },
    {
      "cell_type": "code",
      "execution_count": null,
      "metadata": {
        "collapsed": true,
        "id": "vkZwRKEByj_o"
      },
      "outputs": [],
      "source": [
        "model = Sequential([\n",
        "    Conv2D(32, (2, 2), activation='relu', input_shape=(28, 28, 1)),\n",
        "    MaxPooling2D(pool_size=(2, 2)),\n",
        "    Dropout(0.3),\n",
        "\n",
        "    Conv2D(64, (2, 2), activation='relu'),\n",
        "    MaxPooling2D(pool_size=(2, 2)),\n",
        "    Dropout(0.3),\n",
        "\n",
        "    Flatten(),\n",
        "    Dense(128, activation='relu'),\n",
        "    Dropout(0.3),\n",
        "    Dense(26, activation='softmax')\n",
        "])\n",
        "\n",
        "model.compile(optimizer='adam',\n",
        "              loss='sparse_categorical_crossentropy',\n",
        "              metrics=['accuracy'])"
      ]
    },
    {
      "cell_type": "markdown",
      "source": [
        "## Allenamento modello"
      ],
      "metadata": {
        "id": "dIW9Si8sqyGj"
      }
    },
    {
      "cell_type": "code",
      "source": [
        "history = model.fit(ds_train,\n",
        "                    epochs=10,\n",
        "                    validation_data=ds_test)"
      ],
      "metadata": {
        "id": "cfNhXkixkpWD"
      },
      "execution_count": null,
      "outputs": []
    },
    {
      "cell_type": "markdown",
      "source": [
        "### Salviamo i pesi"
      ],
      "metadata": {
        "id": "zdEff8aXs7u5"
      }
    },
    {
      "cell_type": "code",
      "source": [
        "model.save_weights(\"model_weights.weights.h5\")\n",
        "files.download(\"model_weights.weights.h5\")"
      ],
      "metadata": {
        "id": "m9IVyROcongo"
      },
      "execution_count": 14,
      "outputs": []
    },
    {
      "cell_type": "markdown",
      "source": [
        "### Carichiamo i pesi"
      ],
      "metadata": {
        "id": "rusjK9i0tAVZ"
      }
    },
    {
      "cell_type": "markdown",
      "source": [
        "Se è già stato allenato e i pesi sono stati salvati, è possibile caricarli senza dover allenare di nuovo la rete."
      ],
      "metadata": {
        "id": "ZrFGWF_PkAtO"
      }
    },
    {
      "cell_type": "code",
      "source": [
        "uploaded = files.upload()\n",
        "model.load_weights(\"model_weights.weights.h5\")"
      ],
      "metadata": {
        "id": "xtRufPRtkcHi",
        "colab": {
          "base_uri": "https://localhost:8080/",
          "height": 336
        },
        "outputId": "f701383d-17cf-4891-9d4d-6464352fc6c1"
      },
      "execution_count": 25,
      "outputs": [
        {
          "output_type": "display_data",
          "data": {
            "text/plain": [
              "<IPython.core.display.HTML object>"
            ],
            "text/html": [
              "\n",
              "     <input type=\"file\" id=\"files-fade0003-ad69-4b32-be87-38bbe10dc2a2\" name=\"files[]\" multiple disabled\n",
              "        style=\"border:none\" />\n",
              "     <output id=\"result-fade0003-ad69-4b32-be87-38bbe10dc2a2\">\n",
              "      Upload widget is only available when the cell has been executed in the\n",
              "      current browser session. Please rerun this cell to enable.\n",
              "      </output>\n",
              "      <script>// Copyright 2017 Google LLC\n",
              "//\n",
              "// Licensed under the Apache License, Version 2.0 (the \"License\");\n",
              "// you may not use this file except in compliance with the License.\n",
              "// You may obtain a copy of the License at\n",
              "//\n",
              "//      http://www.apache.org/licenses/LICENSE-2.0\n",
              "//\n",
              "// Unless required by applicable law or agreed to in writing, software\n",
              "// distributed under the License is distributed on an \"AS IS\" BASIS,\n",
              "// WITHOUT WARRANTIES OR CONDITIONS OF ANY KIND, either express or implied.\n",
              "// See the License for the specific language governing permissions and\n",
              "// limitations under the License.\n",
              "\n",
              "/**\n",
              " * @fileoverview Helpers for google.colab Python module.\n",
              " */\n",
              "(function(scope) {\n",
              "function span(text, styleAttributes = {}) {\n",
              "  const element = document.createElement('span');\n",
              "  element.textContent = text;\n",
              "  for (const key of Object.keys(styleAttributes)) {\n",
              "    element.style[key] = styleAttributes[key];\n",
              "  }\n",
              "  return element;\n",
              "}\n",
              "\n",
              "// Max number of bytes which will be uploaded at a time.\n",
              "const MAX_PAYLOAD_SIZE = 100 * 1024;\n",
              "\n",
              "function _uploadFiles(inputId, outputId) {\n",
              "  const steps = uploadFilesStep(inputId, outputId);\n",
              "  const outputElement = document.getElementById(outputId);\n",
              "  // Cache steps on the outputElement to make it available for the next call\n",
              "  // to uploadFilesContinue from Python.\n",
              "  outputElement.steps = steps;\n",
              "\n",
              "  return _uploadFilesContinue(outputId);\n",
              "}\n",
              "\n",
              "// This is roughly an async generator (not supported in the browser yet),\n",
              "// where there are multiple asynchronous steps and the Python side is going\n",
              "// to poll for completion of each step.\n",
              "// This uses a Promise to block the python side on completion of each step,\n",
              "// then passes the result of the previous step as the input to the next step.\n",
              "function _uploadFilesContinue(outputId) {\n",
              "  const outputElement = document.getElementById(outputId);\n",
              "  const steps = outputElement.steps;\n",
              "\n",
              "  const next = steps.next(outputElement.lastPromiseValue);\n",
              "  return Promise.resolve(next.value.promise).then((value) => {\n",
              "    // Cache the last promise value to make it available to the next\n",
              "    // step of the generator.\n",
              "    outputElement.lastPromiseValue = value;\n",
              "    return next.value.response;\n",
              "  });\n",
              "}\n",
              "\n",
              "/**\n",
              " * Generator function which is called between each async step of the upload\n",
              " * process.\n",
              " * @param {string} inputId Element ID of the input file picker element.\n",
              " * @param {string} outputId Element ID of the output display.\n",
              " * @return {!Iterable<!Object>} Iterable of next steps.\n",
              " */\n",
              "function* uploadFilesStep(inputId, outputId) {\n",
              "  const inputElement = document.getElementById(inputId);\n",
              "  inputElement.disabled = false;\n",
              "\n",
              "  const outputElement = document.getElementById(outputId);\n",
              "  outputElement.innerHTML = '';\n",
              "\n",
              "  const pickedPromise = new Promise((resolve) => {\n",
              "    inputElement.addEventListener('change', (e) => {\n",
              "      resolve(e.target.files);\n",
              "    });\n",
              "  });\n",
              "\n",
              "  const cancel = document.createElement('button');\n",
              "  inputElement.parentElement.appendChild(cancel);\n",
              "  cancel.textContent = 'Cancel upload';\n",
              "  const cancelPromise = new Promise((resolve) => {\n",
              "    cancel.onclick = () => {\n",
              "      resolve(null);\n",
              "    };\n",
              "  });\n",
              "\n",
              "  // Wait for the user to pick the files.\n",
              "  const files = yield {\n",
              "    promise: Promise.race([pickedPromise, cancelPromise]),\n",
              "    response: {\n",
              "      action: 'starting',\n",
              "    }\n",
              "  };\n",
              "\n",
              "  cancel.remove();\n",
              "\n",
              "  // Disable the input element since further picks are not allowed.\n",
              "  inputElement.disabled = true;\n",
              "\n",
              "  if (!files) {\n",
              "    return {\n",
              "      response: {\n",
              "        action: 'complete',\n",
              "      }\n",
              "    };\n",
              "  }\n",
              "\n",
              "  for (const file of files) {\n",
              "    const li = document.createElement('li');\n",
              "    li.append(span(file.name, {fontWeight: 'bold'}));\n",
              "    li.append(span(\n",
              "        `(${file.type || 'n/a'}) - ${file.size} bytes, ` +\n",
              "        `last modified: ${\n",
              "            file.lastModifiedDate ? file.lastModifiedDate.toLocaleDateString() :\n",
              "                                    'n/a'} - `));\n",
              "    const percent = span('0% done');\n",
              "    li.appendChild(percent);\n",
              "\n",
              "    outputElement.appendChild(li);\n",
              "\n",
              "    const fileDataPromise = new Promise((resolve) => {\n",
              "      const reader = new FileReader();\n",
              "      reader.onload = (e) => {\n",
              "        resolve(e.target.result);\n",
              "      };\n",
              "      reader.readAsArrayBuffer(file);\n",
              "    });\n",
              "    // Wait for the data to be ready.\n",
              "    let fileData = yield {\n",
              "      promise: fileDataPromise,\n",
              "      response: {\n",
              "        action: 'continue',\n",
              "      }\n",
              "    };\n",
              "\n",
              "    // Use a chunked sending to avoid message size limits. See b/62115660.\n",
              "    let position = 0;\n",
              "    do {\n",
              "      const length = Math.min(fileData.byteLength - position, MAX_PAYLOAD_SIZE);\n",
              "      const chunk = new Uint8Array(fileData, position, length);\n",
              "      position += length;\n",
              "\n",
              "      const base64 = btoa(String.fromCharCode.apply(null, chunk));\n",
              "      yield {\n",
              "        response: {\n",
              "          action: 'append',\n",
              "          file: file.name,\n",
              "          data: base64,\n",
              "        },\n",
              "      };\n",
              "\n",
              "      let percentDone = fileData.byteLength === 0 ?\n",
              "          100 :\n",
              "          Math.round((position / fileData.byteLength) * 100);\n",
              "      percent.textContent = `${percentDone}% done`;\n",
              "\n",
              "    } while (position < fileData.byteLength);\n",
              "  }\n",
              "\n",
              "  // All done.\n",
              "  yield {\n",
              "    response: {\n",
              "      action: 'complete',\n",
              "    }\n",
              "  };\n",
              "}\n",
              "\n",
              "scope.google = scope.google || {};\n",
              "scope.google.colab = scope.google.colab || {};\n",
              "scope.google.colab._files = {\n",
              "  _uploadFiles,\n",
              "  _uploadFilesContinue,\n",
              "};\n",
              "})(self);\n",
              "</script> "
            ]
          },
          "metadata": {}
        },
        {
          "output_type": "error",
          "ename": "KeyboardInterrupt",
          "evalue": "",
          "traceback": [
            "\u001b[0;31m---------------------------------------------------------------------------\u001b[0m",
            "\u001b[0;31mKeyboardInterrupt\u001b[0m                         Traceback (most recent call last)",
            "\u001b[0;32m<ipython-input-25-5cab76a51df5>\u001b[0m in \u001b[0;36m<cell line: 0>\u001b[0;34m()\u001b[0m\n\u001b[0;32m----> 1\u001b[0;31m \u001b[0muploaded\u001b[0m \u001b[0;34m=\u001b[0m \u001b[0mfiles\u001b[0m\u001b[0;34m.\u001b[0m\u001b[0mupload\u001b[0m\u001b[0;34m(\u001b[0m\u001b[0;34m)\u001b[0m\u001b[0;34m\u001b[0m\u001b[0;34m\u001b[0m\u001b[0m\n\u001b[0m\u001b[1;32m      2\u001b[0m \u001b[0mmodel\u001b[0m\u001b[0;34m.\u001b[0m\u001b[0mload_weights\u001b[0m\u001b[0;34m(\u001b[0m\u001b[0;34m\"model_weights.weights.h5\"\u001b[0m\u001b[0;34m)\u001b[0m\u001b[0;34m\u001b[0m\u001b[0;34m\u001b[0m\u001b[0m\n",
            "\u001b[0;32m/usr/local/lib/python3.11/dist-packages/google/colab/files.py\u001b[0m in \u001b[0;36mupload\u001b[0;34m(target_dir)\u001b[0m\n\u001b[1;32m     70\u001b[0m   \"\"\"\n\u001b[1;32m     71\u001b[0m \u001b[0;34m\u001b[0m\u001b[0m\n\u001b[0;32m---> 72\u001b[0;31m   \u001b[0muploaded_files\u001b[0m \u001b[0;34m=\u001b[0m \u001b[0m_upload_files\u001b[0m\u001b[0;34m(\u001b[0m\u001b[0mmultiple\u001b[0m\u001b[0;34m=\u001b[0m\u001b[0;32mTrue\u001b[0m\u001b[0;34m)\u001b[0m\u001b[0;34m\u001b[0m\u001b[0;34m\u001b[0m\u001b[0m\n\u001b[0m\u001b[1;32m     73\u001b[0m   \u001b[0;31m# Mapping from original filename to filename as saved locally.\u001b[0m\u001b[0;34m\u001b[0m\u001b[0;34m\u001b[0m\u001b[0m\n\u001b[1;32m     74\u001b[0m   \u001b[0mlocal_filenames\u001b[0m \u001b[0;34m=\u001b[0m \u001b[0mdict\u001b[0m\u001b[0;34m(\u001b[0m\u001b[0;34m)\u001b[0m\u001b[0;34m\u001b[0m\u001b[0;34m\u001b[0m\u001b[0m\n",
            "\u001b[0;32m/usr/local/lib/python3.11/dist-packages/google/colab/files.py\u001b[0m in \u001b[0;36m_upload_files\u001b[0;34m(multiple)\u001b[0m\n\u001b[1;32m    162\u001b[0m \u001b[0;34m\u001b[0m\u001b[0m\n\u001b[1;32m    163\u001b[0m   \u001b[0;31m# First result is always an indication that the file picker has completed.\u001b[0m\u001b[0;34m\u001b[0m\u001b[0;34m\u001b[0m\u001b[0m\n\u001b[0;32m--> 164\u001b[0;31m   result = _output.eval_js(\n\u001b[0m\u001b[1;32m    165\u001b[0m       'google.colab._files._uploadFiles(\"{input_id}\", \"{output_id}\")'.format(\n\u001b[1;32m    166\u001b[0m           \u001b[0minput_id\u001b[0m\u001b[0;34m=\u001b[0m\u001b[0minput_id\u001b[0m\u001b[0;34m,\u001b[0m \u001b[0moutput_id\u001b[0m\u001b[0;34m=\u001b[0m\u001b[0moutput_id\u001b[0m\u001b[0;34m\u001b[0m\u001b[0;34m\u001b[0m\u001b[0m\n",
            "\u001b[0;32m/usr/local/lib/python3.11/dist-packages/google/colab/output/_js.py\u001b[0m in \u001b[0;36meval_js\u001b[0;34m(script, ignore_result, timeout_sec)\u001b[0m\n\u001b[1;32m     38\u001b[0m   \u001b[0;32mif\u001b[0m \u001b[0mignore_result\u001b[0m\u001b[0;34m:\u001b[0m\u001b[0;34m\u001b[0m\u001b[0;34m\u001b[0m\u001b[0m\n\u001b[1;32m     39\u001b[0m     \u001b[0;32mreturn\u001b[0m\u001b[0;34m\u001b[0m\u001b[0;34m\u001b[0m\u001b[0m\n\u001b[0;32m---> 40\u001b[0;31m   \u001b[0;32mreturn\u001b[0m \u001b[0m_message\u001b[0m\u001b[0;34m.\u001b[0m\u001b[0mread_reply_from_input\u001b[0m\u001b[0;34m(\u001b[0m\u001b[0mrequest_id\u001b[0m\u001b[0;34m,\u001b[0m \u001b[0mtimeout_sec\u001b[0m\u001b[0;34m)\u001b[0m\u001b[0;34m\u001b[0m\u001b[0;34m\u001b[0m\u001b[0m\n\u001b[0m\u001b[1;32m     41\u001b[0m \u001b[0;34m\u001b[0m\u001b[0m\n\u001b[1;32m     42\u001b[0m \u001b[0;34m\u001b[0m\u001b[0m\n",
            "\u001b[0;32m/usr/local/lib/python3.11/dist-packages/google/colab/_message.py\u001b[0m in \u001b[0;36mread_reply_from_input\u001b[0;34m(message_id, timeout_sec)\u001b[0m\n\u001b[1;32m     94\u001b[0m     \u001b[0mreply\u001b[0m \u001b[0;34m=\u001b[0m \u001b[0m_read_next_input_message\u001b[0m\u001b[0;34m(\u001b[0m\u001b[0;34m)\u001b[0m\u001b[0;34m\u001b[0m\u001b[0;34m\u001b[0m\u001b[0m\n\u001b[1;32m     95\u001b[0m     \u001b[0;32mif\u001b[0m \u001b[0mreply\u001b[0m \u001b[0;34m==\u001b[0m \u001b[0m_NOT_READY\u001b[0m \u001b[0;32mor\u001b[0m \u001b[0;32mnot\u001b[0m \u001b[0misinstance\u001b[0m\u001b[0;34m(\u001b[0m\u001b[0mreply\u001b[0m\u001b[0;34m,\u001b[0m \u001b[0mdict\u001b[0m\u001b[0;34m)\u001b[0m\u001b[0;34m:\u001b[0m\u001b[0;34m\u001b[0m\u001b[0;34m\u001b[0m\u001b[0m\n\u001b[0;32m---> 96\u001b[0;31m       \u001b[0mtime\u001b[0m\u001b[0;34m.\u001b[0m\u001b[0msleep\u001b[0m\u001b[0;34m(\u001b[0m\u001b[0;36m0.025\u001b[0m\u001b[0;34m)\u001b[0m\u001b[0;34m\u001b[0m\u001b[0;34m\u001b[0m\u001b[0m\n\u001b[0m\u001b[1;32m     97\u001b[0m       \u001b[0;32mcontinue\u001b[0m\u001b[0;34m\u001b[0m\u001b[0;34m\u001b[0m\u001b[0m\n\u001b[1;32m     98\u001b[0m     if (\n",
            "\u001b[0;31mKeyboardInterrupt\u001b[0m: "
          ]
        }
      ]
    },
    {
      "cell_type": "markdown",
      "source": [
        "## Grafici"
      ],
      "metadata": {
        "id": "PzPIUyqAsRsj"
      }
    },
    {
      "cell_type": "markdown",
      "source": [
        "### Grafico Allenamento"
      ],
      "metadata": {
        "id": "rcQ64YP3kdaT"
      }
    },
    {
      "cell_type": "code",
      "execution_count": null,
      "metadata": {
        "id": "n0RuN55UtrNY"
      },
      "outputs": [],
      "source": [
        "plt.plot(history.history['accuracy'], label='Accuracy')\n",
        "plt.plot(history.history['val_accuracy'], label='Val_Accuracy')\n",
        "plt.plot(history.history['loss'], label='Loss')\n",
        "plt.plot(history.history['val_loss'], label='Val_Loss')\n",
        "plt.title('Accuratezza durante l\\'allenamento')\n",
        "plt.xlabel('Epoca')\n",
        "plt.ylabel('Accuratezza')\n",
        "plt.legend()\n",
        "plt.show()"
      ]
    },
    {
      "cell_type": "markdown",
      "source": [
        "### Grafico dei pesi"
      ],
      "metadata": {
        "id": "tZTdRt4CsikF"
      }
    },
    {
      "cell_type": "code",
      "source": [
        "import matplotlib.pyplot as plt\n",
        "\n",
        "# Prendi i pesi del primo layer conv2D\n",
        "filters, biases = model.layers[0].get_weights()\n",
        "\n",
        "# filters shape: (height, width, input_channels, num_filters)\n",
        "num_filters = filters.shape[3]\n",
        "\n",
        "fig, axes = plt.subplots(1, num_filters, figsize=(20,5))\n",
        "for i in range(num_filters):\n",
        "    f = filters[:, :, 0, i]  # prendi il filtro relativo al primo canale input\n",
        "    axes[i].imshow(f, cmap='gray')\n",
        "    axes[i].axis('off')\n",
        "plt.show()"
      ],
      "metadata": {
        "id": "tXUH3X8TVUWZ"
      },
      "execution_count": null,
      "outputs": []
    },
    {
      "cell_type": "markdown",
      "source": [
        "## Test Parola"
      ],
      "metadata": {
        "id": "CylnDou1su15"
      }
    },
    {
      "cell_type": "code",
      "source": [
        "# --- HTML CANVAS 1020x280 ---\n",
        "canvas_html = \"\"\"\n",
        "<canvas id=\"canvas\" width=\"1020\" height=\"280\" style=\"border:1px solid black;\"></canvas>\n",
        "<br>\n",
        "<button onclick=\"predict()\">Predict</button>\n",
        "<button onclick=\"clearCanvas()\">Clear</button>\n",
        "<script>\n",
        "let canvas = document.getElementById('canvas');\n",
        "let ctx = canvas.getContext('2d');\n",
        "let drawing = false;\n",
        "\n",
        "canvas.addEventListener('mousedown', () => { drawing = true; });\n",
        "canvas.addEventListener('mouseup', () => { drawing = false; ctx.beginPath(); });\n",
        "canvas.addEventListener('mouseout', () => { drawing = false; ctx.beginPath(); });\n",
        "\n",
        "canvas.addEventListener('mousemove', (event) => {\n",
        "  if (!drawing) return;\n",
        "  ctx.lineWidth = 15;\n",
        "  ctx.lineCap = \"round\";\n",
        "  ctx.strokeStyle = \"white\";\n",
        "  ctx.lineTo(event.offsetX, event.offsetY);\n",
        "  ctx.stroke();\n",
        "  ctx.beginPath();\n",
        "  ctx.moveTo(event.offsetX, event.offsetY);\n",
        "});\n",
        "\n",
        "ctx.fillStyle = \"black\";\n",
        "ctx.fillRect(0, 0, canvas.width, canvas.height);\n",
        "\n",
        "function clearCanvas() {\n",
        "  ctx.fillStyle = \"black\";\n",
        "  ctx.fillRect(0, 0, canvas.width, canvas.height);\n",
        "}\n",
        "\n",
        "function predict() {\n",
        "  const dataURL = canvas.toDataURL();\n",
        "  google.colab.kernel.invokeFunction('notebook.predict_digit', [dataURL], {});\n",
        "}\n",
        "</script>\n",
        "\"\"\"\n",
        "display(HTML(canvas_html))\n",
        "\n",
        "# --- PREPROCESSING PER UNA LETTERA ---\n",
        "def preprocess_image(img):\n",
        "    img = img.convert('L')\n",
        "    img_array = np.array(img)\n",
        "    non_black_pixels = np.where(img_array > 0)\n",
        "    if non_black_pixels[0].size > 0:\n",
        "        y_min, x_min = np.min(non_black_pixels[0]), np.min(non_black_pixels[1])\n",
        "        y_max, x_max = np.max(non_black_pixels[0]), np.max(non_black_pixels[1])\n",
        "        max_dim = max(y_max - y_min, x_max - x_min)\n",
        "        center_x = (x_min + x_max) // 2\n",
        "        center_y = (y_min + y_max) // 2\n",
        "        new_x_min = max(0, center_x - max_dim // 2 - 2)\n",
        "        new_x_max = min(img_array.shape[1], center_x + max_dim // 2 + 2)\n",
        "        new_y_min = max(0, center_y - max_dim // 2 - 2)\n",
        "        new_y_max = min(img_array.shape[0], center_y + max_dim // 2 + 2)\n",
        "        crop_width = new_x_max - new_x_min\n",
        "        crop_height = new_y_max - new_y_min\n",
        "        max_crop_dim = max(crop_width, crop_height)\n",
        "        if crop_width < max_crop_dim:\n",
        "            diff = max_crop_dim - crop_width\n",
        "            new_x_min = max(0, new_x_min - diff // 2)\n",
        "            new_x_max = min(img_array.shape[1], new_x_max + (diff - diff // 2))\n",
        "        if crop_height < max_crop_dim:\n",
        "            diff = max_crop_dim - crop_height\n",
        "            new_y_min = max(0, new_y_min - diff // 2)\n",
        "            new_y_max = min(img_array.shape[0], new_y_max + (diff - diff // 2))\n",
        "        cropped_img_array = img_array[new_y_min:new_y_max, new_x_min:new_x_max]\n",
        "        cropped_img = Image.fromarray(cropped_img_array)\n",
        "    else:\n",
        "        cropped_img = img\n",
        "    size = max(cropped_img.size)\n",
        "    new_img = Image.new('L', (size, size), color=0)\n",
        "    new_img.paste(cropped_img, ((size - cropped_img.size[0]) // 2, (size - cropped_img.size[1]) // 2))\n",
        "    new_img = new_img.resize((28, 28))\n",
        "    img_array = np.array(new_img).astype('float32') / 255.0\n",
        "    img_array = np.expand_dims(img_array, -1)\n",
        "    return np.expand_dims(img_array, 0), new_img # Restituisce anche l'immagine PIL ridimensionata e centrata\n",
        "\n",
        "# --- SEGMENTAZIONE LETTERE ---\n",
        "def segment_letters(img):\n",
        "    img = img.convert('L')\n",
        "    img_array = np.array(img)\n",
        "    threshold = 50\n",
        "    bin_img = (img_array > threshold).astype(np.uint8) * 255\n",
        "    col_sum = np.sum(bin_img, axis=0)\n",
        "    in_letter = False\n",
        "    letter_bounds = []\n",
        "    for i, val in enumerate(col_sum):\n",
        "        if val > 0 and not in_letter:\n",
        "            in_letter = True\n",
        "            start = i\n",
        "        elif val == 0 and in_letter:\n",
        "            in_letter = False\n",
        "            end = i\n",
        "            if end - start > 5:\n",
        "                letter_bounds.append((start, end))\n",
        "    if in_letter:\n",
        "        letter_bounds.append((start, len(col_sum)))\n",
        "    letter_images = []\n",
        "    for (start, end) in letter_bounds:\n",
        "        letter_crop = img.crop((start, 0, end, img.height))\n",
        "        letter_images.append(letter_crop)\n",
        "    return letter_images\n",
        "\n",
        "# --- PREDIZIONE PAROLA E LETTERE ---\n",
        "def predict_digit(data):\n",
        "    data = data.split(',')[1]\n",
        "    binary = base64.b64decode(data)\n",
        "    img = Image.open(io.BytesIO(binary))\n",
        "    letter_imgs = segment_letters(img)\n",
        "\n",
        "    predictions = []\n",
        "    confidences = []\n",
        "    processed_images_for_display = [] # Lista per memorizzare le immagini pre-processate per la visualizzazione\n",
        "\n",
        "    for letter_img in letter_imgs:\n",
        "        processed_img_array, processed_pil_img = preprocess_image(letter_img) # Ottiene sia l'array che l'immagine PIL\n",
        "        processed_images_for_display.append(processed_pil_img) # Aggiunge l'immagine PIL alla lista\n",
        "        prediction = model.predict(processed_img_array)\n",
        "        pred_class = np.argmax(prediction)\n",
        "        confidence = np.max(prediction)\n",
        "        pred_letter = chr(pred_class + 65)\n",
        "        predictions.append(pred_letter)\n",
        "        confidences.append(confidence)\n",
        "\n",
        "    # Visualizza le immagini delle lettere pre-processate\n",
        "    plt.figure(figsize=(len(processed_images_for_display)*2, 4))\n",
        "    for i, processed_img_pil in enumerate(processed_images_for_display):\n",
        "        plt.subplot(1, len(processed_images_for_display), i+1)\n",
        "        plt.imshow(processed_img_pil, cmap='gray')\n",
        "        plt.title(f'Lettera {i+1}')\n",
        "        plt.axis('off')\n",
        "    plt.tight_layout()\n",
        "    plt.show()\n",
        "\n",
        "    word = ''.join(predictions)\n",
        "    # Visualizza la parola riconosciuta\n",
        "    display(HTML(f\"<h3>Parola riconosciuta: {word}</h3>\"))\n",
        "    # Visualizza tutte le lettere riconosciute singolarmente\n",
        "    for idx, (letter, conf) in enumerate(zip(predictions, confidences)):\n",
        "        display(HTML(f\"<p>Lettera {idx+1}: <b>{letter}</b> (Confidenza: {conf:.2%})</p>\"))\n",
        "\n",
        "    # Visualizza le probabilità per ogni lettera\n",
        "    plt.figure(figsize=(len(letter_imgs)*2, 4))\n",
        "    for i, letter_img in enumerate(letter_imgs):\n",
        "        plt.subplot(1, len(letter_imgs), i+1)\n",
        "        processed_img_array, _ = preprocess_image(letter_img) # Ottiene solo l'array per la predizione\n",
        "        prediction = model.predict(processed_img_array)\n",
        "        plt.bar(range(26), prediction[0])\n",
        "        plt.xticks(range(26), [chr(j + 65) for j in range(26)])\n",
        "        plt.title(f'Probabilità Lettera {i+1}')\n",
        "        plt.tight_layout()\n",
        "    plt.show()\n",
        "\n",
        "\n",
        "output.register_callback('notebook.predict_digit', predict_digit)"
      ],
      "metadata": {
        "id": "p-j5z3jRQcbg"
      },
      "execution_count": null,
      "outputs": []
    }
  ],
  "metadata": {
    "colab": {
      "provenance": [],
      "gpuType": "T4"
    },
    "kernelspec": {
      "display_name": "Python 3",
      "name": "python3"
    },
    "language_info": {
      "name": "python"
    },
    "accelerator": "GPU"
  },
  "nbformat": 4,
  "nbformat_minor": 0
}